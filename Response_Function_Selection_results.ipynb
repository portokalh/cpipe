{
 "cells": [
  {
   "cell_type": "code",
   "execution_count": 3,
   "metadata": {},
   "outputs": [],
   "source": [
    "import numpy as np\n",
    "import nibabel as nib\n",
    "from dipy.core.gradients import gradient_table\n",
    "from dipy.reconst.csdeconv import auto_response\n",
    "from dipy.reconst.csdeconv import recursive_response, response_from_mask"
   ]
  },
  {
   "cell_type": "code",
   "execution_count": 4,
   "metadata": {},
   "outputs": [
    {
     "name": "stdout",
     "output_type": "stream",
     "text": [
      "loading label data finished\n",
      "loading img data finished\n",
      "gradient table calculation finished\n",
      "masking the brain finished\n"
     ]
    }
   ],
   "source": [
    "# load all the data\n",
    "#load atlas data\n",
    "mylabel = 118\n",
    "mypath='data/'\n",
    "labels_img = nib.load(mypath+'fa_labels_warp_N54917_RAS_332.nii.gz')\n",
    "labels = labels_img.get_data()\n",
    "print 'loading label data finished'\n",
    "\n",
    "\n",
    "#load 4D image data\n",
    "img = nib.load(mypath+'N54917_nii4D_RAS.nii')\n",
    "data = img.get_data()\n",
    "affine = img.affine\n",
    "print 'loading img data finished'\n",
    "\n",
    "#load bvals and bvecs data\n",
    "bvals = np.loadtxt(mypath+'N54917_RAS_ecc_bvals.txt')\n",
    "bvecs = np.loadtxt(mypath+'N54917_RAS_ecc_bvecs.txt')\n",
    "gtab = gradient_table(bvals, bvecs)\n",
    "print 'gradient table calculation finished'\n",
    "\n",
    "#Build Brain Mask\n",
    "bm = np.where(labels==0, False, True)\n",
    "mask = bm\n",
    "print 'masking the brain finished'\n",
    "\n",
    "# white matter mask\n",
    "logic1 = np.logical_and(labels>117, labels<148)\n",
    "logic2 = np.logical_and(labels>283, labels<314)\n",
    "logic = np.logical_or(logic1, logic2)\n",
    "logic_ = np.logical_or(labels==150, labels==316)\n",
    "wm = np.where(logic, True, np.where(logic_, True, False))"
   ]
  },
  {
   "cell_type": "markdown",
   "metadata": {},
   "source": [
    "#### auto_respense"
   ]
  },
  {
   "cell_type": "code",
   "execution_count": 36,
   "metadata": {},
   "outputs": [
    {
     "name": "stdout",
     "output_type": "stream",
     "text": [
      "the response function is\n",
      "(array([4.01206489e-04, 9.41710590e-05, 9.41710590e-05]), 5738.5337)\n",
      "the ratio is 0.234719680709\n",
      "the number of voxel is 26\n"
     ]
    }
   ],
   "source": [
    "#auto_response with roi_radius=10\n",
    "response_a1, ratio_a1, nvoxel_a1 = auto_response(gtab, data, \n",
    "                                    roi_radius=10, \n",
    "                                    fa_thr=0.7, \n",
    "                                    roi_center=None, \n",
    "                                    return_number_of_voxels=True)\n",
    "\n",
    "print('the response function is\\n{}\\n'.format(response_a1)\n",
    "      +'the ratio is {}\\n'.format(ratio_a1)\n",
    "      +'the number of voxel is {}'.format(nvoxel_a1))"
   ]
  },
  {
   "cell_type": "code",
   "execution_count": 39,
   "metadata": {},
   "outputs": [
    {
     "name": "stdout",
     "output_type": "stream",
     "text": [
      "the response function is\n",
      "(array([0.00042301, 0.00010075, 0.00010075]), 5729.6885)\n",
      "the ratio is 0.238186218094\n",
      "the number of voxel is 957\n"
     ]
    }
   ],
   "source": [
    "#auto_response with roi_radius=20\n",
    "response_a2, ratio_a2, nvoxel_a2 = auto_response(gtab, data, \n",
    "                                    roi_radius=20, \n",
    "                                    fa_thr=0.7, \n",
    "                                    roi_center=None, \n",
    "                                    return_number_of_voxels=True)\n",
    "\n",
    "print('the response function is\\n{}\\n'.format(response_a2)\n",
    "      +'the ratio is {}\\n'.format(ratio_a2)\n",
    "      +'the number of voxel is {}'.format(nvoxel_a2))"
   ]
  },
  {
   "cell_type": "code",
   "execution_count": 40,
   "metadata": {},
   "outputs": [
    {
     "name": "stdout",
     "output_type": "stream",
     "text": [
      "the response function is\n",
      "(array([0.00041355, 0.00010038, 0.00010038]), 5833.895)\n",
      "the ratio is 0.242722902717\n",
      "the number of voxel is 3584\n"
     ]
    }
   ],
   "source": [
    "#auto_response with roi_radius=30\n",
    "response_a3, ratio_a3, nvoxel_a3 = auto_response(gtab, data, \n",
    "                                    roi_radius=30, \n",
    "                                    fa_thr=0.7, \n",
    "                                    roi_center=None, \n",
    "                                    return_number_of_voxels=True)\n",
    "\n",
    "print('the response function is\\n{}\\n'.format(response_a3)\n",
    "      +'the ratio is {}\\n'.format(ratio_a3)\n",
    "      +'the number of voxel is {}'.format(nvoxel_a3))"
   ]
  },
  {
   "cell_type": "markdown",
   "metadata": {},
   "source": [
    "#### recursive_response"
   ]
  },
  {
   "cell_type": "code",
   "execution_count": null,
   "metadata": {},
   "outputs": [],
   "source": [
    "response_r = recursive_response(gtab, data, mask=wm, sh_order=8,\n",
    "                              peak_thr=0.001, init_fa=0.08,\n",
    "                              init_trace=0.0021, iter=8, convergence=0.001,\n",
    "                              parallel=True)\n",
    "print('the recursive response function is\\n{}\\n'.format(response_r))"
   ]
  },
  {
   "cell_type": "code",
   "execution_count": 56,
   "metadata": {},
   "outputs": [
    {
     "data": {
      "text/plain": [
       "array([ 6874.94631084, -2620.88363841,   876.34702927,  -246.43869606,\n",
       "          55.64382723])"
      ]
     },
     "execution_count": 56,
     "metadata": {},
     "output_type": "execute_result"
    }
   ],
   "source": [
    "response_r.dwi_response"
   ]
  },
  {
   "cell_type": "markdown",
   "metadata": {},
   "source": [
    "#### response_function from mask"
   ]
  },
  {
   "cell_type": "code",
   "execution_count": 5,
   "metadata": {},
   "outputs": [
    {
     "name": "stdout",
     "output_type": "stream",
     "text": [
      "the response function from wm is\n",
      "(array([0.00040757, 0.00020827, 0.00020827]), 6070.5767)\n",
      "the ratio is 0.510988101817\n",
      "\n"
     ]
    }
   ],
   "source": [
    "#response function from white matter mask\n",
    "from dipy.reconst.csdeconv import response_from_mask\n",
    "response_m, ratio_m = response_from_mask(gtab, data, mask=wm)\n",
    "print('the response function from wm is\\n{}\\n'.format(response_m)\n",
    "      +'the ratio is {}\\n'.format(ratio_m))"
   ]
  },
  {
   "cell_type": "code",
   "execution_count": 10,
   "metadata": {},
   "outputs": [
    {
     "name": "stdout",
     "output_type": "stream",
     "text": [
      "the response function from region-118 is\n",
      "(array([0.00043809, 0.00016432, 0.00016432]), 6270.5786)\n",
      "the ratio is 0.375081383311\n",
      "\n",
      "the response function from region-119 is\n",
      "(array([0.00051548, 0.00019263, 0.00019263]), 6123.75)\n",
      "the ratio is 0.373694683897\n",
      "\n",
      "the response function from region-120 is\n",
      "(array([0.00039085, 0.00017255, 0.00017255]), 7134.4673)\n",
      "the ratio is 0.441480587862\n",
      "\n",
      "the response function from region-121 is\n",
      "(array([0.00037472, 0.000203  , 0.000203  ]), 6693.799)\n",
      "the ratio is 0.541756183235\n",
      "\n",
      "the response function from region-122 is\n",
      "(array([0.00036748, 0.00018449, 0.00018449]), 6789.478)\n",
      "the ratio is 0.502029965602\n",
      "\n",
      "the response function from region-123 is\n",
      "(array([0.00038209, 0.00015495, 0.00015495]), 6984.9365)\n",
      "the ratio is 0.405524398228\n",
      "\n",
      "the response function from region-124 is\n",
      "(array([0.00035595, 0.00021202, 0.00021202]), 6458.5215)\n",
      "the ratio is 0.595650616025\n",
      "\n",
      "the response function from region-125 is\n",
      "(array([0.00042735, 0.00023138, 0.00023138]), 6133.1313)\n",
      "the ratio is 0.541434945593\n",
      "\n",
      "the response function from region-126 is\n",
      "(array([0.00043696, 0.00020822, 0.00020822]), 7905.102)\n",
      "the ratio is 0.476531792994\n",
      "\n",
      "the response function from region-127 is\n",
      "(array([0.00040756, 0.00017636, 0.00017636]), 5605.3984)\n",
      "the ratio is 0.432724442821\n",
      "\n",
      "the response function from region-128 is\n",
      "(array([0.00038062, 0.00018711, 0.00018711]), 6438.5825)\n",
      "the ratio is 0.491588891814\n",
      "\n",
      "the response function from region-129 is\n",
      "(array([0.00037151, 0.0001962 , 0.0001962 ]), 6740.541)\n",
      "the ratio is 0.528119644451\n",
      "\n",
      "the response function from region-130 is\n",
      "(array([0.00035587, 0.00022297, 0.00022297]), 6441.373)\n",
      "the ratio is 0.626562618317\n",
      "\n",
      "the response function from region-131 is\n",
      "(array([0.00029921, 0.00021011, 0.00021011]), 6699.666)\n",
      "the ratio is 0.702211535376\n",
      "\n",
      "the response function from region-132 is\n",
      "(array([0.00041562, 0.00021789, 0.00021789]), 7030.0044)\n",
      "the ratio is 0.524263176035\n",
      "\n",
      "the response function from region-133 is\n",
      "(array([0.00044233, 0.00019019, 0.00019019]), 5728.9736)\n",
      "the ratio is 0.429977318431\n",
      "\n",
      "the response function from region-134 is\n",
      "(array([0.00042715, 0.00029431, 0.00029431]), 7404.4243)\n",
      "the ratio is 0.688995192789\n",
      "\n",
      "the response function from region-135 is\n",
      "(array([0.00048145, 0.00020552, 0.00020552]), 4843.1704)\n",
      "the ratio is 0.426887602891\n",
      "\n",
      "the response function from region-136 is\n",
      "(array([0.0004597 , 0.00021812, 0.00021812]), 5142.385)\n",
      "the ratio is 0.474483178203\n",
      "\n",
      "the response function from region-137 is\n",
      "(array([0.00044177, 0.00020176, 0.00020176]), 5058.5825)\n",
      "the ratio is 0.456706591658\n",
      "\n",
      "the response function from region-138 is\n",
      "(array([0.00036826, 0.00019392, 0.00019392]), 5150.474)\n",
      "the ratio is 0.526584464985\n",
      "\n",
      "the response function from region-139 is\n",
      "(array([0.00046438, 0.00015002, 0.00015002]), 4822.485)\n",
      "the ratio is 0.323062990423\n",
      "\n",
      "the response function from region-140 is\n",
      "(array([0.00036656, 0.00022404, 0.00022404]), 5245.607)\n",
      "the ratio is 0.611184502961\n",
      "\n",
      "the response function from region-141 is\n",
      "(array([0.000511  , 0.00019689, 0.00019689]), 4498.1904)\n",
      "the ratio is 0.385298966026\n",
      "\n",
      "the response function from region-142 is\n",
      "(array([0.00034205, 0.00021946, 0.00021946]), 5761.841)\n",
      "the ratio is 0.641585719481\n",
      "\n",
      "the response function from region-143 is\n",
      "(array([0.00039655, 0.00021779, 0.00021779]), 6161.5825)\n",
      "the ratio is 0.549206767763\n",
      "\n",
      "the response function from region-144 is\n",
      "(array([0.0004978 , 0.00017626, 0.00017626]), 5135.6035)\n",
      "the ratio is 0.354074011645\n",
      "\n",
      "the response function from region-145 is\n",
      "(array([0.00033834, 0.00023154, 0.00023154]), 5457.2515)\n",
      "the ratio is 0.684356600277\n",
      "\n",
      "the response function from region-146 is\n",
      "(array([0.00049116, 0.00025726, 0.00025726]), 5757.8877)\n",
      "the ratio is 0.523786540704\n",
      "\n",
      "the response function from region-147 is\n",
      "(array([0.00039051, 0.00024861, 0.00024861]), 6095.84)\n",
      "the ratio is 0.63661399553\n",
      "\n"
     ]
    }
   ],
   "source": [
    "#response function from each region in white matter mask\n",
    "from dipy.reconst.csdeconv import response_from_mask\n",
    "for i in range(118, 148):\n",
    "    response_m, ratio_m = response_from_mask(gtab, data, mask=labels==i)\n",
    "    print('the response function from region-{} is\\n{}\\n'.format(i, response_m)\n",
    "          +'the ratio is {}\\n'.format(ratio_m))"
   ]
  }
 ],
 "metadata": {
  "kernelspec": {
   "display_name": "Python 2",
   "language": "python",
   "name": "python2"
  },
  "language_info": {
   "codemirror_mode": {
    "name": "ipython",
    "version": 2
   },
   "file_extension": ".py",
   "mimetype": "text/x-python",
   "name": "python",
   "nbconvert_exporter": "python",
   "pygments_lexer": "ipython2",
   "version": "2.7.15"
  }
 },
 "nbformat": 4,
 "nbformat_minor": 2
}
